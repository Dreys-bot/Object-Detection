{
 "cells": [
  {
   "cell_type": "code",
   "execution_count": 2,
   "id": "a5d380fe",
   "metadata": {
    "scrolled": false
   },
   "outputs": [
    {
     "name": "stdout",
     "output_type": "stream",
     "text": [
      "Requirement already satisfied: torch in c:\\users\\audre\\anaconda3\\envs\\tensorflow\\lib\\site-packages (1.13.1)\n",
      "Requirement already satisfied: typing-extensions in c:\\users\\audre\\anaconda3\\envs\\tensorflow\\lib\\site-packages (from torch) (4.4.0)\n"
     ]
    }
   ],
   "source": [
    "!pip install torch"
   ]
  },
  {
   "cell_type": "code",
   "execution_count": 3,
   "id": "24e7d7ad",
   "metadata": {},
   "outputs": [
    {
     "name": "stdout",
     "output_type": "stream",
     "text": [
      "Requirement already satisfied: ipywidgets in c:\\users\\audre\\anaconda3\\envs\\tensorflow\\lib\\site-packages (8.0.4)\n",
      "Requirement already satisfied: widgetsnbextension~=4.0 in c:\\users\\audre\\anaconda3\\envs\\tensorflow\\lib\\site-packages (from ipywidgets) (4.0.5)\n",
      "Requirement already satisfied: jupyterlab-widgets~=3.0 in c:\\users\\audre\\anaconda3\\envs\\tensorflow\\lib\\site-packages (from ipywidgets) (3.0.5)\n",
      "Requirement already satisfied: traitlets>=4.3.1 in c:\\users\\audre\\anaconda3\\envs\\tensorflow\\lib\\site-packages (from ipywidgets) (5.1.1)\n",
      "Requirement already satisfied: ipython>=6.1.0 in c:\\users\\audre\\anaconda3\\envs\\tensorflow\\lib\\site-packages (from ipywidgets) (8.4.0)\n",
      "Requirement already satisfied: ipykernel>=4.5.1 in c:\\users\\audre\\anaconda3\\envs\\tensorflow\\lib\\site-packages (from ipywidgets) (6.15.2)\n",
      "Requirement already satisfied: nest-asyncio in c:\\users\\audre\\anaconda3\\envs\\tensorflow\\lib\\site-packages (from ipykernel>=4.5.1->ipywidgets) (1.5.5)\n",
      "Requirement already satisfied: tornado>=6.1 in c:\\users\\audre\\anaconda3\\envs\\tensorflow\\lib\\site-packages (from ipykernel>=4.5.1->ipywidgets) (6.2)\n",
      "Requirement already satisfied: pyzmq>=17 in c:\\users\\audre\\anaconda3\\envs\\tensorflow\\lib\\site-packages (from ipykernel>=4.5.1->ipywidgets) (23.2.0)\n",
      "Requirement already satisfied: debugpy>=1.0 in c:\\users\\audre\\anaconda3\\envs\\tensorflow\\lib\\site-packages (from ipykernel>=4.5.1->ipywidgets) (1.5.1)\n",
      "Requirement already satisfied: psutil in c:\\users\\audre\\anaconda3\\envs\\tensorflow\\lib\\site-packages (from ipykernel>=4.5.1->ipywidgets) (5.9.0)\n",
      "Requirement already satisfied: matplotlib-inline>=0.1 in c:\\users\\audre\\anaconda3\\envs\\tensorflow\\lib\\site-packages (from ipykernel>=4.5.1->ipywidgets) (0.1.6)\n",
      "Requirement already satisfied: packaging in c:\\users\\audre\\anaconda3\\envs\\tensorflow\\lib\\site-packages (from ipykernel>=4.5.1->ipywidgets) (21.3)\n",
      "Requirement already satisfied: jupyter-client>=6.1.12 in c:\\users\\audre\\anaconda3\\envs\\tensorflow\\lib\\site-packages (from ipykernel>=4.5.1->ipywidgets) (7.3.5)\n",
      "Requirement already satisfied: pickleshare in c:\\users\\audre\\anaconda3\\envs\\tensorflow\\lib\\site-packages (from ipython>=6.1.0->ipywidgets) (0.7.5)\n",
      "Requirement already satisfied: pygments>=2.4.0 in c:\\users\\audre\\anaconda3\\envs\\tensorflow\\lib\\site-packages (from ipython>=6.1.0->ipywidgets) (2.11.2)\n",
      "Requirement already satisfied: decorator in c:\\users\\audre\\anaconda3\\envs\\tensorflow\\lib\\site-packages (from ipython>=6.1.0->ipywidgets) (5.1.1)\n",
      "Requirement already satisfied: stack-data in c:\\users\\audre\\anaconda3\\envs\\tensorflow\\lib\\site-packages (from ipython>=6.1.0->ipywidgets) (0.2.0)\n",
      "Requirement already satisfied: jedi>=0.16 in c:\\users\\audre\\anaconda3\\envs\\tensorflow\\lib\\site-packages (from ipython>=6.1.0->ipywidgets) (0.18.1)\n",
      "Requirement already satisfied: backcall in c:\\users\\audre\\anaconda3\\envs\\tensorflow\\lib\\site-packages (from ipython>=6.1.0->ipywidgets) (0.2.0)\n",
      "Requirement already satisfied: setuptools>=18.5 in c:\\users\\audre\\anaconda3\\envs\\tensorflow\\lib\\site-packages (from ipython>=6.1.0->ipywidgets) (63.4.1)\n",
      "Requirement already satisfied: colorama in c:\\users\\audre\\anaconda3\\envs\\tensorflow\\lib\\site-packages (from ipython>=6.1.0->ipywidgets) (0.4.5)\n",
      "Requirement already satisfied: prompt-toolkit!=3.0.0,!=3.0.1,<3.1.0,>=2.0.0 in c:\\users\\audre\\anaconda3\\envs\\tensorflow\\lib\\site-packages (from ipython>=6.1.0->ipywidgets) (3.0.20)\n",
      "Requirement already satisfied: parso<0.9.0,>=0.8.0 in c:\\users\\audre\\anaconda3\\envs\\tensorflow\\lib\\site-packages (from jedi>=0.16->ipython>=6.1.0->ipywidgets) (0.8.3)\n",
      "Requirement already satisfied: python-dateutil>=2.8.2 in c:\\users\\audre\\anaconda3\\envs\\tensorflow\\lib\\site-packages (from jupyter-client>=6.1.12->ipykernel>=4.5.1->ipywidgets) (2.8.2)\n",
      "Requirement already satisfied: jupyter-core>=4.9.2 in c:\\users\\audre\\anaconda3\\envs\\tensorflow\\lib\\site-packages (from jupyter-client>=6.1.12->ipykernel>=4.5.1->ipywidgets) (4.11.1)\n",
      "Requirement already satisfied: entrypoints in c:\\users\\audre\\anaconda3\\envs\\tensorflow\\lib\\site-packages (from jupyter-client>=6.1.12->ipykernel>=4.5.1->ipywidgets) (0.4)\n",
      "Requirement already satisfied: wcwidth in c:\\users\\audre\\anaconda3\\envs\\tensorflow\\lib\\site-packages (from prompt-toolkit!=3.0.0,!=3.0.1,<3.1.0,>=2.0.0->ipython>=6.1.0->ipywidgets) (0.2.5)\n",
      "Requirement already satisfied: pyparsing!=3.0.5,>=2.0.2 in c:\\users\\audre\\anaconda3\\envs\\tensorflow\\lib\\site-packages (from packaging->ipykernel>=4.5.1->ipywidgets) (3.0.9)\n",
      "Requirement already satisfied: asttokens in c:\\users\\audre\\anaconda3\\envs\\tensorflow\\lib\\site-packages (from stack-data->ipython>=6.1.0->ipywidgets) (2.0.5)\n",
      "Requirement already satisfied: pure-eval in c:\\users\\audre\\anaconda3\\envs\\tensorflow\\lib\\site-packages (from stack-data->ipython>=6.1.0->ipywidgets) (0.2.2)\n",
      "Requirement already satisfied: executing in c:\\users\\audre\\anaconda3\\envs\\tensorflow\\lib\\site-packages (from stack-data->ipython>=6.1.0->ipywidgets) (0.8.3)\n",
      "Requirement already satisfied: pywin32>=1.0 in c:\\users\\audre\\anaconda3\\envs\\tensorflow\\lib\\site-packages (from jupyter-core>=4.9.2->jupyter-client>=6.1.12->ipykernel>=4.5.1->ipywidgets) (302)\n",
      "Requirement already satisfied: six>=1.5 in c:\\users\\audre\\anaconda3\\envs\\tensorflow\\lib\\site-packages (from python-dateutil>=2.8.2->jupyter-client>=6.1.12->ipykernel>=4.5.1->ipywidgets) (1.16.0)\n"
     ]
    }
   ],
   "source": [
    "!pip install ipywidgets"
   ]
  },
  {
   "cell_type": "code",
   "execution_count": 4,
   "id": "1811b7af",
   "metadata": {},
   "outputs": [],
   "source": [
    "import torch #yolov5 implemented using pytorch\n",
    "from IPython.display import Image #this is to render predictions"
   ]
  },
  {
   "cell_type": "code",
   "execution_count": 5,
   "id": "5c3aaef2",
   "metadata": {},
   "outputs": [],
   "source": [
    "#!git clone https://github.com/ultralytics/yolov5"
   ]
  },
  {
   "cell_type": "code",
   "execution_count": 6,
   "id": "9f1fe4e9",
   "metadata": {},
   "outputs": [
    {
     "name": "stdout",
     "output_type": "stream",
     "text": [
      "C:\\Users\\audre\\Documents\\yolov5_test\\yolov5\n"
     ]
    }
   ],
   "source": [
    "%cd yolov5"
   ]
  },
  {
   "cell_type": "code",
   "execution_count": 12,
   "id": "32d56b16",
   "metadata": {},
   "outputs": [
    {
     "name": "stdout",
     "output_type": "stream",
     "text": [
      "Requirement already satisfied: gitpython in c:\\users\\audre\\anaconda3\\envs\\tensorflow\\lib\\site-packages (from -r requirements.txt (line 5)) (3.1.30)\n",
      "Requirement already satisfied: ipython in c:\\users\\audre\\anaconda3\\envs\\tensorflow\\lib\\site-packages (from -r requirements.txt (line 6)) (8.4.0)\n",
      "Requirement already satisfied: matplotlib>=3.2.2 in c:\\users\\audre\\anaconda3\\envs\\tensorflow\\lib\\site-packages (from -r requirements.txt (line 7)) (3.6.1)\n",
      "Requirement already satisfied: numpy>=1.18.5 in c:\\users\\audre\\anaconda3\\envs\\tensorflow\\lib\\site-packages (from -r requirements.txt (line 8)) (1.23.3)\n",
      "Requirement already satisfied: opencv-python>=4.1.1 in c:\\users\\audre\\anaconda3\\envs\\tensorflow\\lib\\site-packages (from -r requirements.txt (line 9)) (4.7.0.68)\n",
      "Requirement already satisfied: Pillow>=7.1.2 in c:\\users\\audre\\anaconda3\\envs\\tensorflow\\lib\\site-packages (from -r requirements.txt (line 10)) (9.2.0)\n",
      "Requirement already satisfied: psutil in c:\\users\\audre\\anaconda3\\envs\\tensorflow\\lib\\site-packages (from -r requirements.txt (line 11)) (5.9.0)\n",
      "Requirement already satisfied: PyYAML>=5.3.1 in c:\\users\\audre\\anaconda3\\envs\\tensorflow\\lib\\site-packages (from -r requirements.txt (line 12)) (6.0)\n",
      "Requirement already satisfied: requests>=2.23.0 in c:\\users\\audre\\anaconda3\\envs\\tensorflow\\lib\\site-packages (from -r requirements.txt (line 13)) (2.28.1)\n",
      "Requirement already satisfied: scipy>=1.4.1 in c:\\users\\audre\\anaconda3\\envs\\tensorflow\\lib\\site-packages (from -r requirements.txt (line 14)) (1.9.2)\n",
      "Requirement already satisfied: thop>=0.1.1 in c:\\users\\audre\\anaconda3\\envs\\tensorflow\\lib\\site-packages (from -r requirements.txt (line 15)) (0.1.1.post2209072238)\n",
      "Requirement already satisfied: torch>=1.7.0 in c:\\users\\audre\\anaconda3\\envs\\tensorflow\\lib\\site-packages (from -r requirements.txt (line 16)) (1.13.1)\n",
      "Requirement already satisfied: torchvision>=0.8.1 in c:\\users\\audre\\anaconda3\\envs\\tensorflow\\lib\\site-packages (from -r requirements.txt (line 17)) (0.14.1)\n",
      "Requirement already satisfied: tqdm>=4.64.0 in c:\\users\\audre\\anaconda3\\envs\\tensorflow\\lib\\site-packages (from -r requirements.txt (line 18)) (4.64.1)\n",
      "Requirement already satisfied: tensorboard>=2.4.1 in c:\\users\\audre\\anaconda3\\envs\\tensorflow\\lib\\site-packages (from -r requirements.txt (line 22)) (2.10.1)\n",
      "Requirement already satisfied: pandas>=1.1.4 in c:\\users\\audre\\anaconda3\\envs\\tensorflow\\lib\\site-packages (from -r requirements.txt (line 27)) (1.5.0)\n",
      "Requirement already satisfied: seaborn>=0.11.0 in c:\\users\\audre\\anaconda3\\envs\\tensorflow\\lib\\site-packages (from -r requirements.txt (line 28)) (0.12.0)\n",
      "Requirement already satisfied: gitdb<5,>=4.0.1 in c:\\users\\audre\\anaconda3\\envs\\tensorflow\\lib\\site-packages (from gitpython->-r requirements.txt (line 5)) (4.0.10)\n",
      "Requirement already satisfied: backcall in c:\\users\\audre\\anaconda3\\envs\\tensorflow\\lib\\site-packages (from ipython->-r requirements.txt (line 6)) (0.2.0)\n",
      "Requirement already satisfied: decorator in c:\\users\\audre\\anaconda3\\envs\\tensorflow\\lib\\site-packages (from ipython->-r requirements.txt (line 6)) (5.1.1)\n",
      "Requirement already satisfied: setuptools>=18.5 in c:\\users\\audre\\anaconda3\\envs\\tensorflow\\lib\\site-packages (from ipython->-r requirements.txt (line 6)) (63.4.1)\n",
      "Requirement already satisfied: stack-data in c:\\users\\audre\\anaconda3\\envs\\tensorflow\\lib\\site-packages (from ipython->-r requirements.txt (line 6)) (0.2.0)\n",
      "Requirement already satisfied: matplotlib-inline in c:\\users\\audre\\anaconda3\\envs\\tensorflow\\lib\\site-packages (from ipython->-r requirements.txt (line 6)) (0.1.6)\n",
      "Requirement already satisfied: traitlets>=5 in c:\\users\\audre\\anaconda3\\envs\\tensorflow\\lib\\site-packages (from ipython->-r requirements.txt (line 6)) (5.1.1)\n",
      "Requirement already satisfied: pygments>=2.4.0 in c:\\users\\audre\\anaconda3\\envs\\tensorflow\\lib\\site-packages (from ipython->-r requirements.txt (line 6)) (2.11.2)\n",
      "Requirement already satisfied: colorama in c:\\users\\audre\\anaconda3\\envs\\tensorflow\\lib\\site-packages (from ipython->-r requirements.txt (line 6)) (0.4.5)\n",
      "Requirement already satisfied: pickleshare in c:\\users\\audre\\anaconda3\\envs\\tensorflow\\lib\\site-packages (from ipython->-r requirements.txt (line 6)) (0.7.5)\n",
      "Requirement already satisfied: jedi>=0.16 in c:\\users\\audre\\anaconda3\\envs\\tensorflow\\lib\\site-packages (from ipython->-r requirements.txt (line 6)) (0.18.1)\n",
      "Requirement already satisfied: prompt-toolkit!=3.0.0,!=3.0.1,<3.1.0,>=2.0.0 in c:\\users\\audre\\anaconda3\\envs\\tensorflow\\lib\\site-packages (from ipython->-r requirements.txt (line 6)) (3.0.20)\n",
      "Requirement already satisfied: fonttools>=4.22.0 in c:\\users\\audre\\anaconda3\\envs\\tensorflow\\lib\\site-packages (from matplotlib>=3.2.2->-r requirements.txt (line 7)) (4.37.4)\n",
      "Requirement already satisfied: packaging>=20.0 in c:\\users\\audre\\anaconda3\\envs\\tensorflow\\lib\\site-packages (from matplotlib>=3.2.2->-r requirements.txt (line 7)) (21.3)\n",
      "Requirement already satisfied: pyparsing>=2.2.1 in c:\\users\\audre\\anaconda3\\envs\\tensorflow\\lib\\site-packages (from matplotlib>=3.2.2->-r requirements.txt (line 7)) (3.0.9)\n",
      "Requirement already satisfied: kiwisolver>=1.0.1 in c:\\users\\audre\\anaconda3\\envs\\tensorflow\\lib\\site-packages (from matplotlib>=3.2.2->-r requirements.txt (line 7)) (1.4.4)\n",
      "Requirement already satisfied: python-dateutil>=2.7 in c:\\users\\audre\\anaconda3\\envs\\tensorflow\\lib\\site-packages (from matplotlib>=3.2.2->-r requirements.txt (line 7)) (2.8.2)\n",
      "Requirement already satisfied: cycler>=0.10 in c:\\users\\audre\\anaconda3\\envs\\tensorflow\\lib\\site-packages (from matplotlib>=3.2.2->-r requirements.txt (line 7)) (0.11.0)\n",
      "Requirement already satisfied: contourpy>=1.0.1 in c:\\users\\audre\\anaconda3\\envs\\tensorflow\\lib\\site-packages (from matplotlib>=3.2.2->-r requirements.txt (line 7)) (1.0.5)\n",
      "Requirement already satisfied: charset-normalizer<3,>=2 in c:\\users\\audre\\anaconda3\\envs\\tensorflow\\lib\\site-packages (from requests>=2.23.0->-r requirements.txt (line 13)) (2.1.1)\n",
      "Requirement already satisfied: urllib3<1.27,>=1.21.1 in c:\\users\\audre\\anaconda3\\envs\\tensorflow\\lib\\site-packages (from requests>=2.23.0->-r requirements.txt (line 13)) (1.26.12)\n",
      "Requirement already satisfied: certifi>=2017.4.17 in c:\\users\\audre\\anaconda3\\envs\\tensorflow\\lib\\site-packages (from requests>=2.23.0->-r requirements.txt (line 13)) (2022.9.24)\n",
      "Requirement already satisfied: idna<4,>=2.5 in c:\\users\\audre\\anaconda3\\envs\\tensorflow\\lib\\site-packages (from requests>=2.23.0->-r requirements.txt (line 13)) (3.4)\n",
      "Requirement already satisfied: typing-extensions in c:\\users\\audre\\anaconda3\\envs\\tensorflow\\lib\\site-packages (from torch>=1.7.0->-r requirements.txt (line 16)) (4.4.0)\n",
      "Requirement already satisfied: grpcio>=1.24.3 in c:\\users\\audre\\anaconda3\\envs\\tensorflow\\lib\\site-packages (from tensorboard>=2.4.1->-r requirements.txt (line 22)) (1.49.1)\n",
      "Requirement already satisfied: google-auth-oauthlib<0.5,>=0.4.1 in c:\\users\\audre\\anaconda3\\envs\\tensorflow\\lib\\site-packages (from tensorboard>=2.4.1->-r requirements.txt (line 22)) (0.4.6)\n",
      "Requirement already satisfied: google-auth<3,>=1.6.3 in c:\\users\\audre\\anaconda3\\envs\\tensorflow\\lib\\site-packages (from tensorboard>=2.4.1->-r requirements.txt (line 22)) (2.12.0)\n",
      "Requirement already satisfied: protobuf<3.20,>=3.9.2 in c:\\users\\audre\\anaconda3\\envs\\tensorflow\\lib\\site-packages (from tensorboard>=2.4.1->-r requirements.txt (line 22)) (3.19.6)\n",
      "Requirement already satisfied: tensorboard-plugin-wit>=1.6.0 in c:\\users\\audre\\anaconda3\\envs\\tensorflow\\lib\\site-packages (from tensorboard>=2.4.1->-r requirements.txt (line 22)) (1.8.1)\n",
      "Requirement already satisfied: absl-py>=0.4 in c:\\users\\audre\\anaconda3\\envs\\tensorflow\\lib\\site-packages (from tensorboard>=2.4.1->-r requirements.txt (line 22)) (1.2.0)\n",
      "Requirement already satisfied: markdown>=2.6.8 in c:\\users\\audre\\anaconda3\\envs\\tensorflow\\lib\\site-packages (from tensorboard>=2.4.1->-r requirements.txt (line 22)) (3.4.1)\n",
      "Requirement already satisfied: wheel>=0.26 in c:\\users\\audre\\anaconda3\\envs\\tensorflow\\lib\\site-packages (from tensorboard>=2.4.1->-r requirements.txt (line 22)) (0.37.1)\n",
      "Requirement already satisfied: werkzeug>=1.0.1 in c:\\users\\audre\\anaconda3\\envs\\tensorflow\\lib\\site-packages (from tensorboard>=2.4.1->-r requirements.txt (line 22)) (2.2.2)\n",
      "Requirement already satisfied: tensorboard-data-server<0.7.0,>=0.6.0 in c:\\users\\audre\\anaconda3\\envs\\tensorflow\\lib\\site-packages (from tensorboard>=2.4.1->-r requirements.txt (line 22)) (0.6.1)\n",
      "Requirement already satisfied: pytz>=2020.1 in c:\\users\\audre\\anaconda3\\envs\\tensorflow\\lib\\site-packages (from pandas>=1.1.4->-r requirements.txt (line 27)) (2022.4)\n",
      "Requirement already satisfied: smmap<6,>=3.0.1 in c:\\users\\audre\\anaconda3\\envs\\tensorflow\\lib\\site-packages (from gitdb<5,>=4.0.1->gitpython->-r requirements.txt (line 5)) (5.0.0)\n",
      "Requirement already satisfied: rsa<5,>=3.1.4 in c:\\users\\audre\\anaconda3\\envs\\tensorflow\\lib\\site-packages (from google-auth<3,>=1.6.3->tensorboard>=2.4.1->-r requirements.txt (line 22)) (4.9)\n",
      "Requirement already satisfied: cachetools<6.0,>=2.0.0 in c:\\users\\audre\\anaconda3\\envs\\tensorflow\\lib\\site-packages (from google-auth<3,>=1.6.3->tensorboard>=2.4.1->-r requirements.txt (line 22)) (5.2.0)\n",
      "Requirement already satisfied: six>=1.9.0 in c:\\users\\audre\\anaconda3\\envs\\tensorflow\\lib\\site-packages (from google-auth<3,>=1.6.3->tensorboard>=2.4.1->-r requirements.txt (line 22)) (1.16.0)\n",
      "Requirement already satisfied: pyasn1-modules>=0.2.1 in c:\\users\\audre\\anaconda3\\envs\\tensorflow\\lib\\site-packages (from google-auth<3,>=1.6.3->tensorboard>=2.4.1->-r requirements.txt (line 22)) (0.2.8)\n",
      "Requirement already satisfied: requests-oauthlib>=0.7.0 in c:\\users\\audre\\anaconda3\\envs\\tensorflow\\lib\\site-packages (from google-auth-oauthlib<0.5,>=0.4.1->tensorboard>=2.4.1->-r requirements.txt (line 22)) (1.3.1)\n",
      "Requirement already satisfied: parso<0.9.0,>=0.8.0 in c:\\users\\audre\\anaconda3\\envs\\tensorflow\\lib\\site-packages (from jedi>=0.16->ipython->-r requirements.txt (line 6)) (0.8.3)\n",
      "Requirement already satisfied: importlib-metadata>=4.4 in c:\\users\\audre\\anaconda3\\envs\\tensorflow\\lib\\site-packages (from markdown>=2.6.8->tensorboard>=2.4.1->-r requirements.txt (line 22)) (5.0.0)\n",
      "Requirement already satisfied: wcwidth in c:\\users\\audre\\anaconda3\\envs\\tensorflow\\lib\\site-packages (from prompt-toolkit!=3.0.0,!=3.0.1,<3.1.0,>=2.0.0->ipython->-r requirements.txt (line 6)) (0.2.5)\n",
      "Requirement already satisfied: MarkupSafe>=2.1.1 in c:\\users\\audre\\anaconda3\\envs\\tensorflow\\lib\\site-packages (from werkzeug>=1.0.1->tensorboard>=2.4.1->-r requirements.txt (line 22)) (2.1.1)\n",
      "Requirement already satisfied: asttokens in c:\\users\\audre\\anaconda3\\envs\\tensorflow\\lib\\site-packages (from stack-data->ipython->-r requirements.txt (line 6)) (2.0.5)\n",
      "Requirement already satisfied: pure-eval in c:\\users\\audre\\anaconda3\\envs\\tensorflow\\lib\\site-packages (from stack-data->ipython->-r requirements.txt (line 6)) (0.2.2)\n",
      "Requirement already satisfied: executing in c:\\users\\audre\\anaconda3\\envs\\tensorflow\\lib\\site-packages (from stack-data->ipython->-r requirements.txt (line 6)) (0.8.3)\n",
      "Requirement already satisfied: zipp>=0.5 in c:\\users\\audre\\anaconda3\\envs\\tensorflow\\lib\\site-packages (from importlib-metadata>=4.4->markdown>=2.6.8->tensorboard>=2.4.1->-r requirements.txt (line 22)) (3.9.0)\n",
      "Requirement already satisfied: pyasn1<0.5.0,>=0.4.6 in c:\\users\\audre\\anaconda3\\envs\\tensorflow\\lib\\site-packages (from pyasn1-modules>=0.2.1->google-auth<3,>=1.6.3->tensorboard>=2.4.1->-r requirements.txt (line 22)) (0.4.8)\n",
      "Requirement already satisfied: oauthlib>=3.0.0 in c:\\users\\audre\\anaconda3\\envs\\tensorflow\\lib\\site-packages (from requests-oauthlib>=0.7.0->google-auth-oauthlib<0.5,>=0.4.1->tensorboard>=2.4.1->-r requirements.txt (line 22)) (3.2.1)\n"
     ]
    }
   ],
   "source": [
    "!pip install -r requirements.txt"
   ]
  },
  {
   "cell_type": "code",
   "execution_count": 8,
   "id": "a1542c4d",
   "metadata": {},
   "outputs": [
    {
     "name": "stdout",
     "output_type": "stream",
     "text": [
      "Requirement already satisfied: IProgress in c:\\users\\audre\\anaconda3\\envs\\tensorflow\\lib\\site-packages (0.4)\n",
      "Requirement already satisfied: six in c:\\users\\audre\\anaconda3\\envs\\tensorflow\\lib\\site-packages (from IProgress) (1.16.0)\n"
     ]
    }
   ],
   "source": [
    "!pip install IProgress"
   ]
  },
  {
   "cell_type": "code",
   "execution_count": 9,
   "id": "0c7bbbe9",
   "metadata": {},
   "outputs": [],
   "source": [
    "from tqdm import tqdm\n",
    "import IProgress\n",
    "from ipywidgets import IntProgress"
   ]
  },
  {
   "cell_type": "code",
   "execution_count": 13,
   "id": "2d761c5c",
   "metadata": {},
   "outputs": [
    {
     "name": "stdout",
     "output_type": "stream",
     "text": [
      "\u001b[34m\u001b[1mgithub: \u001b[0mskipping check (not a git repository), for updates see https://github.com/ultralytics/yolov5\n"
     ]
    },
    {
     "name": "stderr",
     "output_type": "stream",
     "text": [
      "\u001b[34m\u001b[1mtrain: \u001b[0mweights=yolov5s.pt, cfg=, data=dataset.yaml, hyp=data\\hyps\\hyp.scratch-low.yaml, epochs=50, batch_size=16, imgsz=416, rect=False, resume=False, nosave=False, noval=False, noautoanchor=False, noplots=False, evolve=None, bucket=, cache=ram, image_weights=False, device=, multi_scale=False, single_cls=False, optimizer=SGD, sync_bn=False, workers=8, project=runs\\train, name=exp, exist_ok=False, quad=False, cos_lr=False, label_smoothing=0.0, patience=100, freeze=[0], save_period=-1, seed=0, local_rank=-1, entity=None, upload_dataset=False, bbox_interval=-1, artifact_alias=latest\n",
      "YOLOv5  2023-1-3 Python-3.9.13 torch-1.13.1+cpu CPU\n",
      "\n",
      "\u001b[34m\u001b[1mhyperparameters: \u001b[0mlr0=0.01, lrf=0.01, momentum=0.937, weight_decay=0.0005, warmup_epochs=3.0, warmup_momentum=0.8, warmup_bias_lr=0.1, box=0.05, cls=0.5, cls_pw=1.0, obj=1.0, obj_pw=1.0, iou_t=0.2, anchor_t=4.0, fl_gamma=0.0, hsv_h=0.015, hsv_s=0.7, hsv_v=0.4, degrees=0.0, translate=0.1, scale=0.5, shear=0.0, perspective=0.0, flipud=0.0, fliplr=0.5, mosaic=1.0, mixup=0.0, copy_paste=0.0\n",
      "\u001b[34m\u001b[1mClearML: \u001b[0mrun 'pip install clearml' to automatically track, visualize and remotely train YOLOv5  in ClearML\n",
      "\u001b[34m\u001b[1mComet: \u001b[0mrun 'pip install comet_ml' to automatically track and visualize YOLOv5  runs in Comet\n",
      "\u001b[34m\u001b[1mTensorBoard: \u001b[0mStart with 'tensorboard --logdir runs\\train', view at http://localhost:6006/\n",
      "2023-01-06 15:55:43.280483: W tensorflow/stream_executor/platform/default/dso_loader.cc:64] Could not load dynamic library 'cudart64_110.dll'; dlerror: cudart64_110.dll not found\n",
      "2023-01-06 15:55:43.280522: I tensorflow/stream_executor/cuda/cudart_stub.cc:29] Ignore above cudart dlerror if you do not have a GPU set up on your machine.\n",
      "Overriding model.yaml nc=80 with nc=2\n",
      "\n",
      "                 from  n    params  module                                  arguments                     \n",
      "  0                -1  1      3520  models.common.Conv                      [3, 32, 6, 2, 2]              \n",
      "  1                -1  1     18560  models.common.Conv                      [32, 64, 3, 2]                \n",
      "  2                -1  1     18816  models.common.C3                        [64, 64, 1]                   \n",
      "  3                -1  1     73984  models.common.Conv                      [64, 128, 3, 2]               \n",
      "  4                -1  2    115712  models.common.C3                        [128, 128, 2]                 \n",
      "  5                -1  1    295424  models.common.Conv                      [128, 256, 3, 2]              \n",
      "  6                -1  3    625152  models.common.C3                        [256, 256, 3]                 \n",
      "  7                -1  1   1180672  models.common.Conv                      [256, 512, 3, 2]              \n",
      "  8                -1  1   1182720  models.common.C3                        [512, 512, 1]                 \n",
      "  9                -1  1    656896  models.common.SPPF                      [512, 512, 5]                 \n",
      " 10                -1  1    131584  models.common.Conv                      [512, 256, 1, 1]              \n",
      " 11                -1  1         0  torch.nn.modules.upsampling.Upsample    [None, 2, 'nearest']          \n",
      " 12           [-1, 6]  1         0  models.common.Concat                    [1]                           \n",
      " 13                -1  1    361984  models.common.C3                        [512, 256, 1, False]          \n",
      " 14                -1  1     33024  models.common.Conv                      [256, 128, 1, 1]              \n",
      " 15                -1  1         0  torch.nn.modules.upsampling.Upsample    [None, 2, 'nearest']          \n",
      " 16           [-1, 4]  1         0  models.common.Concat                    [1]                           \n",
      " 17                -1  1     90880  models.common.C3                        [256, 128, 1, False]          \n",
      " 18                -1  1    147712  models.common.Conv                      [128, 128, 3, 2]              \n",
      " 19          [-1, 14]  1         0  models.common.Concat                    [1]                           \n",
      " 20                -1  1    296448  models.common.C3                        [256, 256, 1, False]          \n",
      " 21                -1  1    590336  models.common.Conv                      [256, 256, 3, 2]              \n",
      " 22          [-1, 10]  1         0  models.common.Concat                    [1]                           \n",
      " 23                -1  1   1182720  models.common.C3                        [512, 512, 1, False]          \n",
      " 24      [17, 20, 23]  1     18879  models.yolo.Detect                      [2, [[10, 13, 16, 30, 33, 23], [30, 61, 62, 45, 59, 119], [116, 90, 156, 198, 373, 326]], [128, 256, 512]]\n",
      "Model summary: 214 layers, 7025023 parameters, 7025023 gradients, 16.0 GFLOPs\n",
      "\n",
      "Transferred 343/349 items from yolov5s.pt\n",
      "\u001b[34m\u001b[1moptimizer:\u001b[0m SGD(lr=0.01) with parameter groups 57 weight(decay=0.0), 60 weight(decay=0.0005), 60 bias\n",
      "\n",
      "\u001b[34m\u001b[1mtrain: \u001b[0mScanning C:\\Users\\audre\\Documents\\yolov5_test\\datasets\\coco\\images\\train\\labels...:   0%|          | 0/25 [00:00<?, ?it/s]\n",
      "\u001b[34m\u001b[1mtrain: \u001b[0mScanning C:\\Users\\audre\\Documents\\yolov5_test\\datasets\\coco\\images\\train\\labels... 0 images, 1 backgrounds, 0 corrupt:   4%|4         | 1/25 [00:09<03:43,  9.30s/it]\n",
      "\u001b[34m\u001b[1mtrain: \u001b[0mScanning C:\\Users\\audre\\Documents\\yolov5_test\\datasets\\coco\\images\\train\\labels... 0 images, 25 backgrounds, 0 corrupt: 100%|##########| 25/25 [00:09<00:00,  2.68it/s]\n",
      "\u001b[34m\u001b[1mtrain: \u001b[0mWARNING  No labels found in C:\\Users\\audre\\Documents\\yolov5_test\\datasets\\coco\\images\\train\\labels.cache. See https://github.com/ultralytics/yolov5/wiki/Train-Custom-Data\n",
      "\u001b[34m\u001b[1mtrain: \u001b[0mNew cache created: C:\\Users\\audre\\Documents\\yolov5_test\\datasets\\coco\\images\\train\\labels.cache\n",
      "Traceback (most recent call last):\n",
      "  File \"C:\\Users\\audre\\Documents\\yolov5_test\\yolov5\\train.py\", line 634, in <module>\n",
      "    main(opt)\n",
      "  File \"C:\\Users\\audre\\Documents\\yolov5_test\\yolov5\\train.py\", line 528, in main\n",
      "    train(opt.hyp, opt, device, callbacks)\n",
      "  File \"C:\\Users\\audre\\Documents\\yolov5_test\\yolov5\\train.py\", line 187, in train\n",
      "    train_loader, dataset = create_dataloader(train_path,\n",
      "  File \"C:\\Users\\audre\\Documents\\yolov5_test\\yolov5\\utils\\dataloaders.py\", line 124, in create_dataloader\n",
      "    dataset = LoadImagesAndLabels(\n",
      "  File \"C:\\Users\\audre\\Documents\\yolov5_test\\yolov5\\utils\\dataloaders.py\", line 502, in __init__\n",
      "    assert nf > 0 or not augment, f'{prefix}No labels found in {cache_path}, can not start training. {HELP_URL}'\n",
      "AssertionError: \u001b[34m\u001b[1mtrain: \u001b[0mNo labels found in C:\\Users\\audre\\Documents\\yolov5_test\\datasets\\coco\\images\\train\\labels.cache, can not start training. See https://github.com/ultralytics/yolov5/wiki/Train-Custom-Data\n"
     ]
    }
   ],
   "source": [
    "!python train.py --img 416 --batch 16 --epochs 50 --data dataset.yaml --weights yolov5s.pt --cache"
   ]
  },
  {
   "cell_type": "code",
   "execution_count": 18,
   "id": "3968ec1e",
   "metadata": {},
   "outputs": [
    {
     "name": "stdout",
     "output_type": "stream",
     "text": [
      "\u001b[34m\u001b[1mgithub: \u001b[0mskipping check (not a git repository), for updates see https://github.com/ultralytics/yolov5"
     ]
    },
    {
     "name": "stderr",
     "output_type": "stream",
     "text": [
      "\u001b[34m\u001b[1mtrain: \u001b[0mweights=yolov5s6.pt, cfg=, data=dataset.yaml, hyp=data\\hyps\\hyp.scratch-low.yaml, epochs=150, batch_size=32, imgsz=640, rect=False, resume=False, nosave=False, noval=False, noautoanchor=False, noplots=False, evolve=None, bucket=, cache=ram, image_weights=False, device=, multi_scale=False, single_cls=False, optimizer=SGD, sync_bn=False, workers=8, project=runs\\train, name=exp, exist_ok=False, quad=False, cos_lr=False, label_smoothing=0.0, patience=100, freeze=[12], save_period=-1, seed=0, local_rank=-1, entity=None, upload_dataset=False, bbox_interval=-1, artifact_alias=latest\n",
      "YOLOv5  2023-1-3 Python-3.9.13 torch-1.13.1+cpu CPU\n",
      "\n",
      "\u001b[34m\u001b[1mhyperparameters: \u001b[0mlr0=0.01, lrf=0.01, momentum=0.937, weight_decay=0.0005, warmup_epochs=3.0, warmup_momentum=0.8, warmup_bias_lr=0.1, box=0.05, cls=0.5, cls_pw=1.0, obj=1.0, obj_pw=1.0, iou_t=0.2, anchor_t=4.0, fl_gamma=0.0, hsv_h=0.015, hsv_s=0.7, hsv_v=0.4, degrees=0.0, translate=0.1, scale=0.5, shear=0.0, perspective=0.0, flipud=0.0, fliplr=0.5, mosaic=1.0, mixup=0.0, copy_paste=0.0\n",
      "\u001b[34m\u001b[1mClearML: \u001b[0mrun 'pip install clearml' to automatically track, visualize and remotely train YOLOv5  in ClearML\n",
      "\u001b[34m\u001b[1mComet: \u001b[0mrun 'pip install comet_ml' to automatically track and visualize YOLOv5  runs in Comet\n",
      "\u001b[34m\u001b[1mTensorBoard: \u001b[0mStart with 'tensorboard --logdir runs\\train', view at http://localhost:6006/\n",
      "2023-01-06 16:16:11.588398: W tensorflow/stream_executor/platform/default/dso_loader.cc:64] Could not load dynamic library 'cudart64_110.dll'; dlerror: cudart64_110.dll not found\n",
      "2023-01-06 16:16:11.588441: I tensorflow/stream_executor/cuda/cudart_stub.cc:29] Ignore above cudart dlerror if you do not have a GPU set up on your machine.\n",
      "Overriding model.yaml nc=80 with nc=2\n",
      "\n",
      "                 from  n    params  module                                  arguments                     \n",
      "  0                -1  1      3520  models.common.Conv                      [3, 32, 6, 2, 2]              \n",
      "  1                -1  1     18560  models.common.Conv                      [32, 64, 3, 2]                \n",
      "  2                -1  1     18816  models.common.C3                        [64, 64, 1]                   \n",
      "  3                -1  1     73984  models.common.Conv                      [64, 128, 3, 2]               \n",
      "  4                -1  2    115712  models.common.C3                        [128, 128, 2]                 \n",
      "  5                -1  1    295424  models.common.Conv                      [128, 256, 3, 2]              \n",
      "  6                -1  3    625152  models.common.C3                        [256, 256, 3]                 \n",
      "  7                -1  1    885504  models.common.Conv                      [256, 384, 3, 2]              \n",
      "  8                -1  1    665856  models.common.C3                        [384, 384, 1]                 \n",
      "  9                -1  1   1770496  models.common.Conv                      [384, 512, 3, 2]              \n",
      " 10                -1  1   1182720  models.common.C3                        [512, 512, 1]                 \n",
      " 11                -1  1    656896  models.common.SPPF                      [512, 512, 5]                 \n",
      " 12                -1  1    197376  models.common.Conv                      [512, 384, 1, 1]              \n",
      " 13                -1  1         0  torch.nn.modules.upsampling.Upsample    [None, 2, 'nearest']          \n",
      " 14           [-1, 8]  1         0  models.common.Concat                    [1]                           \n",
      " 15                -1  1    813312  models.common.C3                        [768, 384, 1, False]          \n",
      " 16                -1  1     98816  models.common.Conv                      [384, 256, 1, 1]              \n",
      " 17                -1  1         0  torch.nn.modules.upsampling.Upsample    [None, 2, 'nearest']          \n",
      " 18           [-1, 6]  1         0  models.common.Concat                    [1]                           \n",
      " 19                -1  1    361984  models.common.C3                        [512, 256, 1, False]          \n",
      " 20                -1  1     33024  models.common.Conv                      [256, 128, 1, 1]              \n",
      " 21                -1  1         0  torch.nn.modules.upsampling.Upsample    [None, 2, 'nearest']          \n",
      " 22           [-1, 4]  1         0  models.common.Concat                    [1]                           \n",
      " 23                -1  1     90880  models.common.C3                        [256, 128, 1, False]          \n",
      " 24                -1  1    147712  models.common.Conv                      [128, 128, 3, 2]              \n",
      " 25          [-1, 20]  1         0  models.common.Concat                    [1]                           \n",
      " 26                -1  1    296448  models.common.C3                        [256, 256, 1, False]          \n",
      " 27                -1  1    590336  models.common.Conv                      [256, 256, 3, 2]              \n",
      " 28          [-1, 16]  1         0  models.common.Concat                    [1]                           \n",
      " 29                -1  1    715008  models.common.C3                        [512, 384, 1, False]          \n",
      " 30                -1  1   1327872  models.common.Conv                      [384, 384, 3, 2]              \n",
      " 31          [-1, 12]  1         0  models.common.Concat                    [1]                           \n",
      " 32                -1  1   1313792  models.common.C3                        [768, 512, 1, False]          \n",
      " 33  [23, 26, 29, 32]  1     26964  models.yolo.Detect                      [2, [[19, 27, 44, 40, 38, 94], [96, 68, 86, 152, 180, 137], [140, 301, 303, 264, 238, 542], [436, 615, 739, 380, 925, 792]], [128, 256, 384, 512]]\n",
      "Model summary: 281 layers, 12326164 parameters, 12326164 gradients, 16.3 GFLOPs\n",
      "\n",
      "Transferred 451/459 items from yolov5s6.pt\n",
      "freezing model.0.conv.weight\n",
      "freezing model.0.bn.weight\n",
      "freezing model.0.bn.bias\n",
      "freezing model.1.conv.weight\n",
      "freezing model.1.bn.weight\n",
      "freezing model.1.bn.bias\n",
      "freezing model.2.cv1.conv.weight\n",
      "freezing model.2.cv1.bn.weight\n",
      "freezing model.2.cv1.bn.bias\n",
      "freezing model.2.cv2.conv.weight\n",
      "freezing model.2.cv2.bn.weight\n",
      "freezing model.2.cv2.bn.bias\n",
      "freezing model.2.cv3.conv.weight\n",
      "freezing model.2.cv3.bn.weight\n",
      "freezing model.2.cv3.bn.bias\n",
      "freezing model.2.m.0.cv1.conv.weight\n",
      "freezing model.2.m.0.cv1.bn.weight\n",
      "freezing model.2.m.0.cv1.bn.bias\n",
      "freezing model.2.m.0.cv2.conv.weight\n",
      "freezing model.2.m.0.cv2.bn.weight\n",
      "freezing model.2.m.0.cv2.bn.bias\n",
      "freezing model.3.conv.weight\n",
      "freezing model.3.bn.weight\n",
      "freezing model.3.bn.bias\n",
      "freezing model.4.cv1.conv.weight\n",
      "freezing model.4.cv1.bn.weight\n",
      "freezing model.4.cv1.bn.bias\n",
      "freezing model.4.cv2.conv.weight\n",
      "freezing model.4.cv2.bn.weight\n",
      "freezing model.4.cv2.bn.bias\n",
      "freezing model.4.cv3.conv.weight\n",
      "freezing model.4.cv3.bn.weight\n",
      "freezing model.4.cv3.bn.bias\n",
      "freezing model.4.m.0.cv1.conv.weight\n",
      "freezing model.4.m.0.cv1.bn.weight\n",
      "freezing model.4.m.0.cv1.bn.bias\n",
      "freezing model.4.m.0.cv2.conv.weight\n",
      "freezing model.4.m.0.cv2.bn.weight\n",
      "freezing model.4.m.0.cv2.bn.bias\n",
      "freezing model.4.m.1.cv1.conv.weight\n",
      "freezing model.4.m.1.cv1.bn.weight\n",
      "freezing model.4.m.1.cv1.bn.bias\n",
      "freezing model.4.m.1.cv2.conv.weight\n",
      "freezing model.4.m.1.cv2.bn.weight\n",
      "freezing model.4.m.1.cv2.bn.bias\n",
      "freezing model.5.conv.weight\n",
      "freezing model.5.bn.weight\n",
      "freezing model.5.bn.bias\n",
      "freezing model.6.cv1.conv.weight\n",
      "freezing model.6.cv1.bn.weight\n",
      "freezing model.6.cv1.bn.bias\n",
      "freezing model.6.cv2.conv.weight\n",
      "freezing model.6.cv2.bn.weight\n",
      "freezing model.6.cv2.bn.bias\n",
      "freezing model.6.cv3.conv.weight\n",
      "freezing model.6.cv3.bn.weight\n",
      "freezing model.6.cv3.bn.bias\n",
      "freezing model.6.m.0.cv1.conv.weight\n",
      "freezing model.6.m.0.cv1.bn.weight\n",
      "freezing model.6.m.0.cv1.bn.bias\n",
      "freezing model.6.m.0.cv2.conv.weight\n",
      "freezing model.6.m.0.cv2.bn.weight\n",
      "freezing model.6.m.0.cv2.bn.bias\n",
      "freezing model.6.m.1.cv1.conv.weight\n",
      "freezing model.6.m.1.cv1.bn.weight\n",
      "freezing model.6.m.1.cv1.bn.bias\n",
      "freezing model.6.m.1.cv2.conv.weight\n",
      "freezing model.6.m.1.cv2.bn.weight\n",
      "freezing model.6.m.1.cv2.bn.bias\n",
      "freezing model.6.m.2.cv1.conv.weight\n",
      "freezing model.6.m.2.cv1.bn.weight\n",
      "freezing model.6.m.2.cv1.bn.bias\n",
      "freezing model.6.m.2.cv2.conv.weight\n",
      "freezing model.6.m.2.cv2.bn.weight\n",
      "freezing model.6.m.2.cv2.bn.bias\n",
      "freezing model.7.conv.weight\n",
      "freezing model.7.bn.weight\n",
      "freezing model.7.bn.bias\n",
      "freezing model.8.cv1.conv.weight\n",
      "freezing model.8.cv1.bn.weight\n",
      "freezing model.8.cv1.bn.bias\n",
      "freezing model.8.cv2.conv.weight\n",
      "freezing model.8.cv2.bn.weight\n",
      "freezing model.8.cv2.bn.bias\n",
      "freezing model.8.cv3.conv.weight\n",
      "freezing model.8.cv3.bn.weight\n",
      "freezing model.8.cv3.bn.bias\n",
      "freezing model.8.m.0.cv1.conv.weight\n",
      "freezing model.8.m.0.cv1.bn.weight\n",
      "freezing model.8.m.0.cv1.bn.bias\n",
      "freezing model.8.m.0.cv2.conv.weight\n",
      "freezing model.8.m.0.cv2.bn.weight\n",
      "freezing model.8.m.0.cv2.bn.bias\n",
      "freezing model.9.conv.weight\n",
      "freezing model.9.bn.weight\n",
      "freezing model.9.bn.bias\n",
      "freezing model.10.cv1.conv.weight\n",
      "freezing model.10.cv1.bn.weight\n",
      "freezing model.10.cv1.bn.bias\n",
      "freezing model.10.cv2.conv.weight\n",
      "freezing model.10.cv2.bn.weight\n",
      "freezing model.10.cv2.bn.bias\n",
      "freezing model.10.cv3.conv.weight\n",
      "freezing model.10.cv3.bn.weight\n",
      "freezing model.10.cv3.bn.bias\n",
      "freezing model.10.m.0.cv1.conv.weight\n",
      "freezing model.10.m.0.cv1.bn.weight\n",
      "freezing model.10.m.0.cv1.bn.bias\n",
      "freezing model.10.m.0.cv2.conv.weight\n",
      "freezing model.10.m.0.cv2.bn.weight\n",
      "freezing model.10.m.0.cv2.bn.bias\n",
      "freezing model.11.cv1.conv.weight\n",
      "freezing model.11.cv1.bn.weight\n",
      "freezing model.11.cv1.bn.bias\n",
      "freezing model.11.cv2.conv.weight\n",
      "freezing model.11.cv2.bn.weight\n",
      "freezing model.11.cv2.bn.bias\n",
      "\u001b[34m\u001b[1moptimizer:\u001b[0m SGD(lr=0.01) with parameter groups 75 weight(decay=0.0), 79 weight(decay=0.0005), 79 bias\n",
      "\n",
      "\u001b[34m\u001b[1mtrain: \u001b[0mScanning C:\\Users\\audre\\Documents\\yolov5_test\\datasets\\coco\\images\\train\\labels.cache... 0 images, 25 backgrounds, 0 corrupt: 100%|##########| 25/25 [00:00<?, ?it/s]\n",
      "\u001b[34m\u001b[1mtrain: \u001b[0mScanning C:\\Users\\audre\\Documents\\yolov5_test\\datasets\\coco\\images\\train\\labels.cache... 0 images, 25 backgrounds, 0 corrupt: 100%|##########| 25/25 [00:00<?, ?it/s]\n",
      "Traceback (most recent call last):\n",
      "  File \"C:\\Users\\audre\\Documents\\yolov5_test\\yolov5\\train.py\", line 634, in <module>\n",
      "    main(opt)\n",
      "  File \"C:\\Users\\audre\\Documents\\yolov5_test\\yolov5\\train.py\", line 528, in main\n",
      "    train(opt.hyp, opt, device, callbacks)\n",
      "  File \"C:\\Users\\audre\\Documents\\yolov5_test\\yolov5\\train.py\", line 187, in train\n",
      "    train_loader, dataset = create_dataloader(train_path,\n",
      "  File \"C:\\Users\\audre\\Documents\\yolov5_test\\yolov5\\utils\\dataloaders.py\", line 124, in create_dataloader\n",
      "    dataset = LoadImagesAndLabels(\n",
      "  File \"C:\\Users\\audre\\Documents\\yolov5_test\\yolov5\\utils\\dataloaders.py\", line 502, in __init__\n",
      "    assert nf > 0 or not augment, f'{prefix}No labels found in {cache_path}, can not start training. {HELP_URL}'\n",
      "AssertionError: \u001b[34m\u001b[1mtrain: \u001b[0mNo labels found in C:\\Users\\audre\\Documents\\yolov5_test\\datasets\\coco\\images\\train\\labels.cache, can not start training. See https://github.com/ultralytics/yolov5/wiki/Train-Custom-Data\n"
     ]
    },
    {
     "name": "stdout",
     "output_type": "stream",
     "text": [
      "\n"
     ]
    }
   ],
   "source": [
    "!python train.py --batch 32 --epochs 150 --data dataset.yaml --weights yolov5s6.pt --cache ram --freeze 12"
   ]
  },
  {
   "cell_type": "code",
   "execution_count": null,
   "id": "b83f4dc5",
   "metadata": {},
   "outputs": [],
   "source": []
  },
  {
   "cell_type": "code",
   "execution_count": null,
   "id": "e0994dcf",
   "metadata": {},
   "outputs": [],
   "source": []
  }
 ],
 "metadata": {
  "kernelspec": {
   "display_name": "Python 3 (ipykernel)",
   "language": "python",
   "name": "python3"
  },
  "language_info": {
   "codemirror_mode": {
    "name": "ipython",
    "version": 3
   },
   "file_extension": ".py",
   "mimetype": "text/x-python",
   "name": "python",
   "nbconvert_exporter": "python",
   "pygments_lexer": "ipython3",
   "version": "3.9.13"
  }
 },
 "nbformat": 4,
 "nbformat_minor": 5
}
